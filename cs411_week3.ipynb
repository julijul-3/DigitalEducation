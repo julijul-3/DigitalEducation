{
 "cells": [
  {
   "cell_type": "markdown",
   "id": "7fb31f7a-21c0-4288-ab8b-30e7eaf026b2",
   "metadata": {
    "tags": []
   },
   "source": [
    "# Week-3. Analyze the Learning Tasks\n",
    "\n",
    "## A template for your PS-I assignment\n",
    "\n",
    "1. What is your **topic**?\n",
    "\n",
    "2. What are your **learning goals**?\n",
    "\n",
    "3. What does a learner need to know to meet your learning goals?\n",
    "  - **Prior knowledge**\n",
    "  - **Knowledge gaps** (Knowledge that needs to be learned)\n",
    "\n",
    "4. Describe your problem solving activity\n",
    "  - How will your problem solving activity **activate prior knowledge**? \n",
    "  - How will your activity **create an awareness of knowledge gaps**. That is, how it will create a need-to-know in the learner?"
   ]
  },
  {
   "cell_type": "markdown",
   "id": "12f2a720-1943-42a8-b30e-4e39af5cec22",
   "metadata": {
    "tags": []
   },
   "source": [
    "## What is your topic?\n",
    "\n",
    "**First of all, write down your topic in the next cell.** \n",
    "\n",
    "For example, **Mean Deviation**"
   ]
  },
  {
   "cell_type": "markdown",
   "id": "01e31d79-d32e-4f66-b241-cf50721882a2",
   "metadata": {},
   "source": [
    "---\n",
    "My Topic:\n",
    "Dynamic programming\n",
    "---"
   ]
  },
  {
   "cell_type": "markdown",
   "id": "f46632bf-d85c-4f6c-86c9-0020e2a05f33",
   "metadata": {
    "tags": []
   },
   "source": [
    "## What are the learning goals?\n",
    "\n",
    "**Write down what the learning objectives are for this topic**\n",
    "\n",
    "- Articulate the things a student should be able to do at the end of the lesson \n",
    "- The learning objectives should be specific\n",
    "- The learning objectives should use action verbs: Apply, state, prove, decide, explain, describe \n",
    "- The learning objectives should be **measurable**: Not just say “understand”, but how do they show this understanding\n",
    "\n",
    "For example:\n",
    "* **Be able to calculate mean deviation for a set of data points**\n",
    "* **Be able to compare and contrast mean deviation with other measures of dispersion**"
   ]
  },
  {
   "cell_type": "markdown",
   "id": "8c81c357-0fcf-40b7-8074-80e740e0ac1e",
   "metadata": {},
   "source": [
    "---\n",
    "A list of learning goals for my topic:\n",
    "- identify a DP algorithm by looking at its implementation\n",
    "- identify the part of a code to optimise \n",
    "---"
   ]
  },
  {
   "cell_type": "markdown",
   "id": "fe2ad318-5d9e-4364-91b3-a5eeaf5703e6",
   "metadata": {
    "tags": []
   },
   "source": [
    "## What does the learner need to know?\n",
    "\n",
    "For example:\n",
    "* **Prior Knowledge: Central Tendency, Range**\n",
    "* **Knowledge Gaps: Sample size, Outliers**"
   ]
  },
  {
   "cell_type": "markdown",
   "id": "9d7b5f3b-49ec-4e9c-b358-3465405e38e9",
   "metadata": {},
   "source": [
    "---\n",
    "The prior knowledge for learning this topic includes:\n",
    "- Basic programming skills in Python\n",
    "- Basic skills in algorithmic and data structures\n",
    "- Recursion\n",
    "- Computational complexity\n",
    "\n",
    "---"
   ]
  },
  {
   "cell_type": "markdown",
   "id": "e321bbef-a197-4f24-aee3-19e301c3eecd",
   "metadata": {},
   "source": [
    "---\n",
    "The knowledge gaps our learners will encounter are:\n",
    "\n",
    "- Memoization\n",
    "- Algorithmic thinking\n",
    "- Code optimization \n",
    "\n",
    "---"
   ]
  },
  {
   "cell_type": "markdown",
   "id": "46618e01-7016-4201-881a-d955a826e5af",
   "metadata": {
    "tags": []
   },
   "source": [
    "## What is the learning activity?\n",
    "\n",
    "For example, **\"Find the Most Reliable Pitching Machine\"**"
   ]
  },
  {
   "cell_type": "markdown",
   "id": "57cfe582-3fe6-4128-adbc-4faa0d607f46",
   "metadata": {},
   "source": [
    "---\n",
    "Here are the ways in which my learning activity will activate learners' prior knowledge:\n",
    "- Looking at an unoptimized code will activate the prior knowledge related to python programming\n",
    "- Trying to optimise this code will make them recall all techniques they may have learned to write efficient code. \n",
    "---"
   ]
  },
  {
   "cell_type": "markdown",
   "id": "df5306b0-fbd1-4df2-9a8b-aeccff779805",
   "metadata": {},
   "source": [
    "---\n",
    "Here are the ways in which my learning activity will create an awareness of knowledge gaps:\n",
    "- If the student never learned DP before, it will make them aware of not knowing the solution to optimise the code. They will then have to find the solution, or part of it, by themselves.\n",
    "\n",
    "---"
   ]
  },
  {
   "cell_type": "markdown",
   "id": "e345ac3b-f197-41d4-9e6f-03d2365076be",
   "metadata": {},
   "source": [
    "## Our design\n",
    "\n",
    "Our problem solving activity will be included in a Jupyter notebook. We will present a problem (e.g. jump game) that is typically resolved using dynamic programming. However, we will present a solution implemented in a trivial way (simple recursion), which is not optimal. The student will then have the opportunity to try to find a new solution (thus using dynamic programming, saving the results as it goes instead of computing them every round). The student will be challenged to try to make it as fast as possible. We will give them a way to test and time their function, and an ‘ideal running time’ to challenge them to improve as much as they can. We will let them try it themselves for a certain amount of time (e.g. 10 minutes) , before switching to the instruction part. We will also encourage the students to think about the way they want to code, to write pseudo code, in order to activate the thought process and not stay stuck on coding bugs.\n"
   ]
  },
  {
   "cell_type": "markdown",
   "id": "cee7d3fc-8cbd-43db-8b3a-7d9cab3e790d",
   "metadata": {},
   "source": [
    "We chose jump game to represent our PS activity as it is pretty intuitive and does not involve mathematics, which expands the target audience.\n",
    "\n",
    "The rule of the game is: Given an array in python where each element represents the maximum number of steps that can be taken forward from the current index, the goal is to determine the minimum number of jumps needed to reach the end of the array, starting from index 0. Every time you reach an index, it defines how long your next jump can be. As you can see in the image below, from the first index you can choose to jump one or two steps. If you pick one, you can then choose to go 1,2, or 3 steps. The fewest jump to arrive at the end wins. \n",
    "\n",
    "The dynamic programming approach involves finding the minimum number of jumps required to reach each index in the array and then using this information to compute the minimum jumps to reach the end."
   ]
  },
  {
   "cell_type": "markdown",
   "id": "02684904-8da8-41a6-87ef-7424ab0efeee",
   "metadata": {},
   "source": [
    "![jump game image](https://iq.opengenus.org/content/images/2021/11/rt.svg)"
   ]
  },
  {
   "cell_type": "markdown",
   "id": "0fb1e660-902c-48f2-8612-caea0b1ba3fb",
   "metadata": {},
   "source": [
    "## Tips for your design\n",
    "- Your learner does not need to solve your problem or learn from the problem solving activity directly! (PS-I is not Guided Discovery Learning)\n",
    "- PS is to activate the prior knowledge and awareness of the knowledge gaps\n",
    "- It is I following PS to explicitly facilitate the acquisition of the target knowledge\n",
    "- Research suggests that \"the problem is presented in the form of contrasting cases that differ in only one feature at a time\" during the PS phase, or \"if student solutions are discussed\" during the I phase, to make PS-I effective.\n",
    "- According to the literature, a good design of PS-I works better in acquiring conceptual knowledge and the ability to transfer."
   ]
  },
  {
   "cell_type": "markdown",
   "id": "e8319f20-49a4-4dbd-a081-ae5bf83b385c",
   "metadata": {},
   "source": [
    "## References\n",
    "\n",
    "If you read and understand these three papers, you will have a much better chance of designing a good PS-I activity:\n",
    "\n",
    "**Towards a theory of when and how problem solving followed by instruction supports learning** - *Loibl, K., Roll, I., & Rummel, N. (2017)*\n",
    "\n",
    "**Inventing to prepare for future learning: The hidden efficiency of encouraging original student production in statistics instruction** - *Schwartz, D. L., & Martin, T. (2004)*\n",
    "\n",
    "**Designing for productive failure** - *Kapur, M., & Bielaczyc, K. (2012)*"
   ]
  }
 ],
 "metadata": {
  "kernelspec": {
   "display_name": "Python 3 (ipykernel)",
   "language": "python",
   "name": "python3"
  },
  "language_info": {
   "codemirror_mode": {
    "name": "ipython",
    "version": 3
   },
   "file_extension": ".py",
   "mimetype": "text/x-python",
   "name": "python",
   "nbconvert_exporter": "python",
   "pygments_lexer": "ipython3",
   "version": "3.10.11"
  },
  "toc-autonumbering": false,
  "toc-showmarkdowntxt": false,
  "toc-showtags": false,
  "unianalytics_cell_mapping": [
   [
    "7fb31f7a-21c0-4288-ab8b-30e7eaf026b2",
    "7fb31f7a-21c0-4288-ab8b-30e7eaf026b2"
   ],
   [
    "12f2a720-1943-42a8-b30e-4e39af5cec22",
    "12f2a720-1943-42a8-b30e-4e39af5cec22"
   ],
   [
    "01e31d79-d32e-4f66-b241-cf50721882a2",
    "01e31d79-d32e-4f66-b241-cf50721882a2"
   ],
   [
    "f46632bf-d85c-4f6c-86c9-0020e2a05f33",
    "f46632bf-d85c-4f6c-86c9-0020e2a05f33"
   ],
   [
    "8c81c357-0fcf-40b7-8074-80e740e0ac1e",
    "8c81c357-0fcf-40b7-8074-80e740e0ac1e"
   ],
   [
    "fe2ad318-5d9e-4364-91b3-a5eeaf5703e6",
    "fe2ad318-5d9e-4364-91b3-a5eeaf5703e6"
   ],
   [
    "9d7b5f3b-49ec-4e9c-b358-3465405e38e9",
    "9d7b5f3b-49ec-4e9c-b358-3465405e38e9"
   ],
   [
    "e321bbef-a197-4f24-aee3-19e301c3eecd",
    "e321bbef-a197-4f24-aee3-19e301c3eecd"
   ],
   [
    "46618e01-7016-4201-881a-d955a826e5af",
    "46618e01-7016-4201-881a-d955a826e5af"
   ],
   [
    "57cfe582-3fe6-4128-adbc-4faa0d607f46",
    "57cfe582-3fe6-4128-adbc-4faa0d607f46"
   ],
   [
    "df5306b0-fbd1-4df2-9a8b-aeccff779805",
    "df5306b0-fbd1-4df2-9a8b-aeccff779805"
   ],
   [
    "e345ac3b-f197-41d4-9e6f-03d2365076be",
    "df5306b0-fbd1-4df2-9a8b-aeccff779805"
   ],
   [
    "cee7d3fc-8cbd-43db-8b3a-7d9cab3e790d",
    "df5306b0-fbd1-4df2-9a8b-aeccff779805"
   ],
   [
    "02684904-8da8-41a6-87ef-7424ab0efeee",
    "df5306b0-fbd1-4df2-9a8b-aeccff779805"
   ],
   [
    "0fb1e660-902c-48f2-8612-caea0b1ba3fb",
    "0fb1e660-902c-48f2-8612-caea0b1ba3fb"
   ],
   [
    "e8319f20-49a4-4dbd-a081-ae5bf83b385c",
    "e8319f20-49a4-4dbd-a081-ae5bf83b385c"
   ]
  ],
  "unianalytics_instance_id": "9243e5c3-5a35-4c8d-bcd0-b11c288ce216",
  "unianalytics_notebook_id": "78c0ab4c-45a7-4fed-94b5-ae9965a1f97b"
 },
 "nbformat": 4,
 "nbformat_minor": 5
}
