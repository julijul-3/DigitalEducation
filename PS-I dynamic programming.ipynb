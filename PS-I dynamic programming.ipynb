{
 "cells": [
  {
   "cell_type": "markdown",
   "id": "e7e548e6",
   "metadata": {},
   "source": [
    "# Problem solving\n",
    "\n",
    "Today you will try to find solutions to the **Jump Game**."
   ]
  },
  {
   "cell_type": "code",
   "execution_count": 1,
   "id": "d3893c62",
   "metadata": {},
   "outputs": [
    {
     "name": "stdout",
     "output_type": "stream",
     "text": [
      "Please upload this notebook on Moodle by 22:54:50.\n"
     ]
    }
   ],
   "source": [
    "# First run this cell\n",
    "%load_ext autoreload\n",
    "%autoreload 2\n",
    "from test_utils import test, due_time, d, _set_tags_bis\n",
    "due_time()"
   ]
  },
  {
   "cell_type": "code",
   "execution_count": 2,
   "id": "3e43a47e",
   "metadata": {},
   "outputs": [
    {
     "data": {
      "application/javascript": [
       "require.undef('setTags');\n",
       "define('setTags', function() {\n",
       "    return function(element, tags) {\n",
       "        var cell_element = element.parents('.cell');\n",
       "        var index = Jupyter.notebook.get_cell_elements().index(cell_element);\n",
       "        var cell = Jupyter.notebook.get_cell(index);\n",
       "        cell.metadata.perso = tags;\n",
       "    }\n",
       "});\n"
      ],
      "text/plain": [
       "<IPython.core.display.Javascript object>"
      ]
     },
     "metadata": {},
     "output_type": "display_data"
    }
   ],
   "source": [
    "%%javascript\n",
    "require.undef('setTags');\n",
    "define('setTags', function() {\n",
    "    return function(element, tags) {\n",
    "        var cell_element = element.parents('.cell');\n",
    "        var index = Jupyter.notebook.get_cell_elements().index(cell_element);\n",
    "        var cell = Jupyter.notebook.get_cell(index);\n",
    "        cell.metadata.perso = tags;\n",
    "    }\n",
    "});"
   ]
  },
  {
   "cell_type": "markdown",
   "id": "7fb31f7a-21c0-4288-ab8b-30e7eaf026b2",
   "metadata": {
    "tags": []
   },
   "source": [
    "## Problem description - Jump game\n",
    "\n",
    "Given an array in python where each element represents the maximum number of steps that can be taken forward from the current index, the goal is to determine the minimum number of jumps needed to reach the end of the array or beyond, starting from index 0.\n",
    "\n",
    "### Example\n",
    "\n",
    "**array** : [2, 3, 1, 1, 4]\n",
    "\n",
    "**ouput** : 2\n",
    "\n",
    "<img src=\"jumpgame.jpeg\" width=\"500\"/>\n",
    "\n",
    "**explanation** : Jump 1 step from index 0 to 1, then 3 steps to the last index"
   ]
  },
  {
   "cell_type": "markdown",
   "id": "9883ba75",
   "metadata": {},
   "source": [
    "A correct version of the code is given below but it is too slow. Can you optimize it and then pass the tests ?"
   ]
  },
  {
   "cell_type": "code",
   "execution_count": null,
   "id": "4fe3c744",
   "metadata": {},
   "outputs": [],
   "source": [
    "def slow_jump_game(array):\n",
    "    if len(array) <= 1:\n",
    "        return 0\n",
    "\n",
    "    m = float('inf')\n",
    "    steps = array[0]\n",
    "    for i in range(1, steps + 1):\n",
    "        if(i < len(array)):\n",
    "            m = min(m, 1 + slow_jump_game(array[i:]))\n",
    "    \n",
    "    return m"
   ]
  },
  {
   "cell_type": "markdown",
   "id": "6784bef9",
   "metadata": {},
   "source": [
    "Implement you solution on the cell below and test you code."
   ]
  },
  {
   "cell_type": "code",
   "execution_count": 3,
   "id": "f8a3b049",
   "metadata": {},
   "outputs": [],
   "source": [
    "# Don't forget to run this cell before you test you implementation with the cell below\n",
    "def jump_game(array):\n",
    "    '''PUT YOU CODE INSIDE THIS FUNCTION'''\n",
    "\n",
    "    return array"
   ]
  },
  {
   "cell_type": "code",
   "execution_count": 4,
   "id": "9bb22fc4",
   "metadata": {
    "perso": {
     "1": {
      "fcount": 5,
      "ftime": 0,
      "time": "22:45:05"
     },
     "n": 1
    }
   },
   "outputs": [
    {
     "name": "stdout",
     "output_type": "stream",
     "text": [
      "❌ Your implementation failed 5 test(s) out of 5 tests\n",
      "    ✅ but you implementation is fast enough 🚀.\n"
     ]
    },
    {
     "data": {
      "application/javascript": [
       "\n",
       "        require.undef('setTags');\n",
       "        define('setTags', function() {\n",
       "            return function(element, tags) {\n",
       "                var cell_element = element.parents('.cell');\n",
       "                var index = Jupyter.notebook.get_cell_elements().index(cell_element);\n",
       "                var cell = Jupyter.notebook.get_cell(index);\n",
       "                cell.metadata.perso = tags;\n",
       "            }\n",
       "        });\n",
       "        require(['setTags'], function(setTags) {\n",
       "            setTags(element, {\"n\": 1, \"1\": {\"fcount\": 5, \"ftime\": 0, \"time\": \"22:45:05\"}});\n",
       "        });\n",
       "        "
      ],
      "text/plain": [
       "<IPython.core.display.Javascript object>"
      ]
     },
     "metadata": {},
     "output_type": "display_data"
    }
   ],
   "source": [
    "# Run this cell to verify your solution\n",
    "test(jump_game)\n",
    "# l = [\"test\", \"test2\"]\n",
    "# d = {1: [5,2,10]}\n",
    "# print(l)\n",
    "# _set_tags_bis(d)"
   ]
  },
  {
   "cell_type": "code",
   "execution_count": null,
   "id": "0c623067",
   "metadata": {
    "perso": [
     "hello",
     "hi"
    ]
   },
   "outputs": [],
   "source": [
    "%tag hello hi"
   ]
  },
  {
   "cell_type": "code",
   "execution_count": null,
   "id": "12747f2c",
   "metadata": {},
   "outputs": [],
   "source": [
    "%%javascript\n",
    "require.undef('setTags');\n",
    "define('setTags', function() {\n",
    "    return function(element, tags) {\n",
    "        var cell_element = element.parents('.cell');\n",
    "        var index = Jupyter.notebook.get_cell_elements().index(cell_element);\n",
    "        var cell = Jupyter.notebook.get_cell(index);\n",
    "        cell.metadata.tags = tags;\n",
    "    }\n",
    "});"
   ]
  },
  {
   "cell_type": "code",
   "execution_count": null,
   "id": "ed95178d",
   "metadata": {},
   "outputs": [],
   "source": [
    "from IPython.core.magic import register_cell_magic, register_line_cell_magic\n",
    "from IPython.display import Javascript, display\n",
    "import json\n",
    "\n",
    "def _set_tags(tags):\n",
    "#     assert all(map(lambda t: isinstance(t, str), tags))\n",
    "    display(Javascript(\n",
    "        \"\"\"\n",
    "        require(['setTags'], function(setTags) {\n",
    "            setTags(element, %s);\n",
    "        });\n",
    "        \"\"\" % json.dumps(tags)\n",
    "    ))\n",
    "\n",
    "@register_line_cell_magic\n",
    "def tag(line, cell=None):\n",
    "    _set_tags(line.split())"
   ]
  },
  {
   "cell_type": "code",
   "execution_count": null,
   "id": "547c4b2d",
   "metadata": {},
   "outputs": [],
   "source": [
    "%%"
   ]
  },
  {
   "cell_type": "code",
   "execution_count": null,
   "id": "93f9522f",
   "metadata": {
    "perso": [
     "remove-cells"
    ],
    "tags": [
     "remove-cell"
    ]
   },
   "outputs": [],
   "source": [
    "%tag remove-cells\n",
    "print(\"hello\")"
   ]
  },
  {
   "cell_type": "code",
   "execution_count": null,
   "id": "3a52b8aa",
   "metadata": {
    "perso": [
     "hello",
     "hi"
    ],
    "tags": [
     "remove-cell"
    ]
   },
   "outputs": [],
   "source": []
  }
 ],
 "metadata": {
  "celltoolbar": "Edit Metadata",
  "kernelspec": {
   "display_name": "Python 3 (ipykernel)",
   "language": "python",
   "name": "python3"
  },
  "language_info": {
   "codemirror_mode": {
    "name": "ipython",
    "version": 3
   },
   "file_extension": ".py",
   "mimetype": "text/x-python",
   "name": "python",
   "nbconvert_exporter": "python",
   "pygments_lexer": "ipython3",
   "version": "3.10.9"
  },
  "toc-autonumbering": false,
  "toc-showmarkdowntxt": false,
  "toc-showtags": false,
  "unianalytics_cell_mapping": [
   [
    "7fb31f7a-21c0-4288-ab8b-30e7eaf026b2",
    "7fb31f7a-21c0-4288-ab8b-30e7eaf026b2"
   ],
   [
    "12f2a720-1943-42a8-b30e-4e39af5cec22",
    "12f2a720-1943-42a8-b30e-4e39af5cec22"
   ],
   [
    "01e31d79-d32e-4f66-b241-cf50721882a2",
    "01e31d79-d32e-4f66-b241-cf50721882a2"
   ],
   [
    "f46632bf-d85c-4f6c-86c9-0020e2a05f33",
    "f46632bf-d85c-4f6c-86c9-0020e2a05f33"
   ],
   [
    "8c81c357-0fcf-40b7-8074-80e740e0ac1e",
    "8c81c357-0fcf-40b7-8074-80e740e0ac1e"
   ],
   [
    "fe2ad318-5d9e-4364-91b3-a5eeaf5703e6",
    "fe2ad318-5d9e-4364-91b3-a5eeaf5703e6"
   ],
   [
    "9d7b5f3b-49ec-4e9c-b358-3465405e38e9",
    "9d7b5f3b-49ec-4e9c-b358-3465405e38e9"
   ],
   [
    "e321bbef-a197-4f24-aee3-19e301c3eecd",
    "e321bbef-a197-4f24-aee3-19e301c3eecd"
   ],
   [
    "46618e01-7016-4201-881a-d955a826e5af",
    "46618e01-7016-4201-881a-d955a826e5af"
   ],
   [
    "57cfe582-3fe6-4128-adbc-4faa0d607f46",
    "57cfe582-3fe6-4128-adbc-4faa0d607f46"
   ],
   [
    "df5306b0-fbd1-4df2-9a8b-aeccff779805",
    "df5306b0-fbd1-4df2-9a8b-aeccff779805"
   ],
   [
    "e345ac3b-f197-41d4-9e6f-03d2365076be",
    "df5306b0-fbd1-4df2-9a8b-aeccff779805"
   ],
   [
    "cee7d3fc-8cbd-43db-8b3a-7d9cab3e790d",
    "df5306b0-fbd1-4df2-9a8b-aeccff779805"
   ],
   [
    "02684904-8da8-41a6-87ef-7424ab0efeee",
    "df5306b0-fbd1-4df2-9a8b-aeccff779805"
   ],
   [
    "0fb1e660-902c-48f2-8612-caea0b1ba3fb",
    "0fb1e660-902c-48f2-8612-caea0b1ba3fb"
   ],
   [
    "e8319f20-49a4-4dbd-a081-ae5bf83b385c",
    "e8319f20-49a4-4dbd-a081-ae5bf83b385c"
   ]
  ],
  "unianalytics_instance_id": "9243e5c3-5a35-4c8d-bcd0-b11c288ce216",
  "unianalytics_notebook_id": "78c0ab4c-45a7-4fed-94b5-ae9965a1f97b",
  "vscode": {
   "interpreter": {
    "hash": "c235af447e8b224e9e816e2b6167615a4b714ec2181c393c185e57d5443f5bef"
   }
  }
 },
 "nbformat": 4,
 "nbformat_minor": 5
}
